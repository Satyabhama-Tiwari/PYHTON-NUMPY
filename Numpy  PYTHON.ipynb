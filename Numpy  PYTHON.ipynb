{
  "nbformat": 4,
  "nbformat_minor": 0,
  "metadata": {
    "colab": {
      "provenance": []
    },
    "kernelspec": {
      "name": "python3",
      "display_name": "Python 3"
    },
    "language_info": {
      "name": "python"
    }
  },
  "cells": [
    {
      "cell_type": "markdown",
      "source": [
        "## Q1. Interchange row and column"
      ],
      "metadata": {
        "id": "jNVvd2Gf1-qe"
      }
    },
    {
      "cell_type": "code",
      "execution_count": 1,
      "metadata": {
        "id": "GhMCPDSf15Ee"
      },
      "outputs": [],
      "source": [
        "import numpy as np"
      ]
    },
    {
      "cell_type": "code",
      "source": [
        "np.random.seed(0)\n",
        "\n",
        "arr = np.array(np.random.randint(1, 101,(3,3)))\n",
        "print(arr)"
      ],
      "metadata": {
        "colab": {
          "base_uri": "https://localhost:8080/"
        },
        "id": "XpeADk3S2YeG",
        "outputId": "821b3641-d719-4e59-ddcf-cf599d5f9412"
      },
      "execution_count": 3,
      "outputs": [
        {
          "output_type": "stream",
          "name": "stdout",
          "text": [
            "[[45 48 65]\n",
            " [68 68 10]\n",
            " [84 22 37]]\n"
          ]
        }
      ]
    },
    {
      "cell_type": "code",
      "source": [
        "arr_trans = np.transpose(arr)\n",
        "print(arr_trans)"
      ],
      "metadata": {
        "colab": {
          "base_uri": "https://localhost:8080/"
        },
        "id": "-YBaAqcI2tEL",
        "outputId": "eaf2fb6f-1f55-45cc-cef4-f9ef05388321"
      },
      "execution_count": 4,
      "outputs": [
        {
          "output_type": "stream",
          "name": "stdout",
          "text": [
            "[[45 68 84]\n",
            " [48 68 22]\n",
            " [65 10 37]]\n"
          ]
        }
      ]
    },
    {
      "cell_type": "markdown",
      "source": [
        "## Reshape 1D array"
      ],
      "metadata": {
        "id": "PhyMfKRh2_I9"
      }
    },
    {
      "cell_type": "code",
      "source": [
        "np.random.seed(10)\n",
        "\n",
        "arr = np.array(np.random.randint(1, 101,10))\n",
        "print(arr)"
      ],
      "metadata": {
        "colab": {
          "base_uri": "https://localhost:8080/"
        },
        "id": "7YCOQd8t22t0",
        "outputId": "9e3e6ded-add0-4d36-f9b7-305125a1faed"
      },
      "execution_count": 6,
      "outputs": [
        {
          "output_type": "stream",
          "name": "stdout",
          "text": [
            "[10 16 65 29 90 94 30  9 74  1]\n"
          ]
        }
      ]
    },
    {
      "cell_type": "code",
      "source": [
        "arr_reshape_2x5 = arr.reshape(2,5)\n",
        "print(arr_reshape_2x5)"
      ],
      "metadata": {
        "colab": {
          "base_uri": "https://localhost:8080/"
        },
        "id": "GCDiW32N3JGL",
        "outputId": "b84397c0-6ef1-4015-fe07-d1921683a3e2"
      },
      "execution_count": 9,
      "outputs": [
        {
          "output_type": "stream",
          "name": "stdout",
          "text": [
            "[[10 16 65 29 90]\n",
            " [94 30  9 74  1]]\n"
          ]
        }
      ]
    },
    {
      "cell_type": "code",
      "source": [
        "arr_reshape_5x2 = arr.reshape(5,2)\n",
        "print(arr_reshape_5x2)"
      ],
      "metadata": {
        "colab": {
          "base_uri": "https://localhost:8080/"
        },
        "id": "o2Dc26gL3RmT",
        "outputId": "bfc1c813-27a8-42be-aba6-68ab3ae7b60d"
      },
      "execution_count": 10,
      "outputs": [
        {
          "output_type": "stream",
          "name": "stdout",
          "text": [
            "[[10 16]\n",
            " [65 29]\n",
            " [90 94]\n",
            " [30  9]\n",
            " [74  1]]\n"
          ]
        }
      ]
    },
    {
      "cell_type": "markdown",
      "source": [
        "## 4X4 Array with random Float values & 6X6 having zeroes border"
      ],
      "metadata": {
        "id": "ejpBuayY3iIB"
      }
    },
    {
      "cell_type": "code",
      "source": [
        "np.random.seed(20)\n",
        "\n",
        "arr_4X4 = np.array(np.random.rand(4,4))\n",
        "print(arr_4X4)"
      ],
      "metadata": {
        "colab": {
          "base_uri": "https://localhost:8080/"
        },
        "id": "FnxapJuY3T7D",
        "outputId": "653c4c52-4aa2-426f-ba4c-0604f6ebe0e8"
      },
      "execution_count": 12,
      "outputs": [
        {
          "output_type": "stream",
          "name": "stdout",
          "text": [
            "[[0.5881308  0.89771373 0.89153073 0.81583748]\n",
            " [0.03588959 0.69175758 0.37868094 0.51851095]\n",
            " [0.65795147 0.19385022 0.2723164  0.71860593]\n",
            " [0.78300361 0.85032764 0.77524489 0.03666431]]\n"
          ]
        }
      ]
    },
    {
      "cell_type": "code",
      "source": [
        "arr_6X6 = np.pad(arr_4X4,((1,1),(1,1)),'constant',constant_values=0)\n",
        "print(arr_6X6)"
      ],
      "metadata": {
        "colab": {
          "base_uri": "https://localhost:8080/"
        },
        "id": "gEmDPs9a3xvK",
        "outputId": "a3b129d8-b728-499d-8889-47686919db74"
      },
      "execution_count": 13,
      "outputs": [
        {
          "output_type": "stream",
          "name": "stdout",
          "text": [
            "[[0.         0.         0.         0.         0.         0.        ]\n",
            " [0.         0.5881308  0.89771373 0.89153073 0.81583748 0.        ]\n",
            " [0.         0.03588959 0.69175758 0.37868094 0.51851095 0.        ]\n",
            " [0.         0.65795147 0.19385022 0.2723164  0.71860593 0.        ]\n",
            " [0.         0.78300361 0.85032764 0.77524489 0.03666431 0.        ]\n",
            " [0.         0.         0.         0.         0.         0.        ]]\n"
          ]
        }
      ]
    },
    {
      "cell_type": "markdown",
      "source": [
        "## Q4. Array of Integers from 10 to 60 with step of 5"
      ],
      "metadata": {
        "id": "kXlfHPKK4mM6"
      }
    },
    {
      "cell_type": "code",
      "source": [
        "arr = np.arange(10,61,5)\n",
        "print(arr)"
      ],
      "metadata": {
        "colab": {
          "base_uri": "https://localhost:8080/"
        },
        "id": "YscFzcvg4bjz",
        "outputId": "730b1817-344e-4d9e-d833-50663194b301"
      },
      "execution_count": 14,
      "outputs": [
        {
          "output_type": "stream",
          "name": "stdout",
          "text": [
            "[10 15 20 25 30 35 40 45 50 55 60]\n"
          ]
        }
      ]
    },
    {
      "cell_type": "markdown",
      "source": [
        "## Q5. Case Transformation"
      ],
      "metadata": {
        "id": "4vZcx9u95Bhg"
      }
    },
    {
      "cell_type": "code",
      "source": [
        "arr = np.array(['python', 'numpy', 'pandas'])\n",
        "print(arr)"
      ],
      "metadata": {
        "colab": {
          "base_uri": "https://localhost:8080/"
        },
        "id": "IBlPwY8i46bj",
        "outputId": "3d106373-8410-4af7-87d5-2da3af5b8d74"
      },
      "execution_count": 15,
      "outputs": [
        {
          "output_type": "stream",
          "name": "stdout",
          "text": [
            "['python' 'numpy' 'pandas']\n"
          ]
        }
      ]
    },
    {
      "cell_type": "code",
      "source": [
        "uppercase = np.char.upper(arr)\n",
        "print(uppercase)\n",
        "lowercase = np.char.lower(arr)\n",
        "print(lowercase)\n",
        "titlecase = np.char.title(arr)\n",
        "print(titlecase)\n",
        "swapcase = np.char.swapcase(arr)\n",
        "print(swapcase)"
      ],
      "metadata": {
        "colab": {
          "base_uri": "https://localhost:8080/"
        },
        "id": "Ebn7uL_45Qnj",
        "outputId": "1b7807a8-3afb-494d-a947-e47007b24ac8"
      },
      "execution_count": 17,
      "outputs": [
        {
          "output_type": "stream",
          "name": "stdout",
          "text": [
            "['PYTHON' 'NUMPY' 'PANDAS']\n",
            "['python' 'numpy' 'pandas']\n",
            "['Python' 'Numpy' 'Pandas']\n",
            "['PYTHON' 'NUMPY' 'PANDAS']\n"
          ]
        }
      ]
    },
    {
      "cell_type": "markdown",
      "source": [
        "## Q6. Insert space between each character"
      ],
      "metadata": {
        "id": "I2B8-_uE6M_L"
      }
    },
    {
      "cell_type": "code",
      "source": [
        "words = np.array(['hello','world','python','numpy','pandas'])\n",
        "print(words)\n",
        "\n",
        "spaced_words = np.char.join(' ',words)\n",
        "print(spaced_words)"
      ],
      "metadata": {
        "colab": {
          "base_uri": "https://localhost:8080/"
        },
        "id": "fWZD3J7p5nlT",
        "outputId": "da7b80e6-4e38-4bcf-c1d1-36b48bf0d74c"
      },
      "execution_count": 18,
      "outputs": [
        {
          "output_type": "stream",
          "name": "stdout",
          "text": [
            "['hello' 'world' 'python' 'numpy' 'pandas']\n",
            "['h e l l o' 'w o r l d' 'p y t h o n' 'n u m p y' 'p a n d a s']\n"
          ]
        }
      ]
    },
    {
      "cell_type": "markdown",
      "source": [
        "## Q7. Element wise operation on 2D Numpy Array"
      ],
      "metadata": {
        "id": "fGVctvJh6w8b"
      }
    },
    {
      "cell_type": "code",
      "source": [
        "arr1 = np.array([[1, 2], [3, 4]])\n",
        "arr2 = np.array([[5, 6], [7, 8]])"
      ],
      "metadata": {
        "id": "q7gpw1I76n8b"
      },
      "execution_count": 19,
      "outputs": []
    },
    {
      "cell_type": "code",
      "source": [
        "addition = arr1 + arr2\n",
        "subtraction = arr1 - arr2\n",
        "multiplication = arr1 * arr2\n",
        "division = arr1 / arr2"
      ],
      "metadata": {
        "id": "ccMsaN9z7maK"
      },
      "execution_count": 20,
      "outputs": []
    },
    {
      "cell_type": "code",
      "source": [
        "print(\"Array 1:\")\n",
        "print(arr1)\n",
        "print(\"\\nArray 2:\")\n",
        "print(arr2)\n",
        "print(\"\\nAddition:\")\n",
        "print(addition)\n",
        "print(\"\\nSubtraction:\")\n",
        "print(subtraction)\n",
        "print(\"\\nMultiplication:\")\n",
        "print(multiplication)\n",
        "print(\"\\nDivision:\")\n",
        "print(division)"
      ],
      "metadata": {
        "colab": {
          "base_uri": "https://localhost:8080/"
        },
        "id": "QfoydzbT7qB6",
        "outputId": "860360f4-33a7-4533-dc7f-d97f99c3fc3c"
      },
      "execution_count": 22,
      "outputs": [
        {
          "output_type": "stream",
          "name": "stdout",
          "text": [
            "Array 1:\n",
            "[[1 2]\n",
            " [3 4]]\n",
            "\n",
            "Array 2:\n",
            "[[5 6]\n",
            " [7 8]]\n",
            "\n",
            "Addition:\n",
            "[[ 6  8]\n",
            " [10 12]]\n",
            "\n",
            "Subtraction:\n",
            "[[-4 -4]\n",
            " [-4 -4]]\n",
            "\n",
            "Multiplication:\n",
            "[[ 5 12]\n",
            " [21 32]]\n",
            "\n",
            "Division:\n",
            "[[0.2        0.33333333]\n",
            " [0.42857143 0.5       ]]\n"
          ]
        }
      ]
    },
    {
      "cell_type": "markdown",
      "source": [
        "## Q8. Extracting Diagonal Matrix"
      ],
      "metadata": {
        "id": "Fpg8uBhh73Sx"
      }
    },
    {
      "cell_type": "code",
      "source": [
        "identity_matrix = np.identity(5)\n",
        "print(\"Identity Matrix:\")\n",
        "print(identity_matrix)"
      ],
      "metadata": {
        "colab": {
          "base_uri": "https://localhost:8080/"
        },
        "id": "kXZj2gjk7vPj",
        "outputId": "2440c4c8-3a23-4976-99d7-2d9c6fddb38c"
      },
      "execution_count": 23,
      "outputs": [
        {
          "output_type": "stream",
          "name": "stdout",
          "text": [
            "Identity Matrix:\n",
            "[[1. 0. 0. 0. 0.]\n",
            " [0. 1. 0. 0. 0.]\n",
            " [0. 0. 1. 0. 0.]\n",
            " [0. 0. 0. 1. 0.]\n",
            " [0. 0. 0. 0. 1.]]\n"
          ]
        }
      ]
    },
    {
      "cell_type": "code",
      "source": [
        "diagonal_elements = np.diag(identity_matrix)\n",
        "print(\"\\nDiagonal Elements:\")\n",
        "print(diagonal_elements)"
      ],
      "metadata": {
        "colab": {
          "base_uri": "https://localhost:8080/"
        },
        "id": "vMlv9hEa8EPS",
        "outputId": "52917632-d56c-4b0e-99a6-efb4168fdb9e"
      },
      "execution_count": 24,
      "outputs": [
        {
          "output_type": "stream",
          "name": "stdout",
          "text": [
            "\n",
            "Diagonal Elements:\n",
            "[1. 1. 1. 1. 1.]\n"
          ]
        }
      ]
    },
    {
      "cell_type": "markdown",
      "source": [
        "## Q9. Prime numbers in an array"
      ],
      "metadata": {
        "id": "t_XUnzzn8JL_"
      }
    },
    {
      "cell_type": "code",
      "source": [
        "np.random.seed(30)\n",
        "random_array = np.random.randint(0, 1001, 100)\n",
        "print(\"Random Array:\")\n",
        "print(random_array)"
      ],
      "metadata": {
        "colab": {
          "base_uri": "https://localhost:8080/"
        },
        "id": "PPN06cz-8HBT",
        "outputId": "0a5f52a1-db65-4792-f7fa-b635205135e1"
      },
      "execution_count": 25,
      "outputs": [
        {
          "output_type": "stream",
          "name": "stdout",
          "text": [
            "Random Array:\n",
            "[805 421 941 813 500 140 919 898 821 763 145 430 131 425 263 887 833 689\n",
            " 941 445 163 530  18 116 358 460 912 390  62 283  46 173 320 574 267 527\n",
            " 919 484 781 946 673 567 668 625 186 859 846 441 104 843  95 172 933 203\n",
            " 697 807 649 161 888 943 423 420 278 680 665 438 240 631 837 105 218 922\n",
            " 206 859 531 414 561 989  52 556 189 546 491 975 811 284 444 716 435 169\n",
            " 696 528  39 289 265 523 476 772 866 412]\n"
          ]
        }
      ]
    },
    {
      "cell_type": "code",
      "source": [
        "def is_prime(n):\n",
        "    if n < 2:\n",
        "        return False\n",
        "    for i in range(2, int(np.sqrt(n)) + 1):\n",
        "        if n % i == 0:\n",
        "            return False\n",
        "    return True"
      ],
      "metadata": {
        "id": "1A5KzMs38VEK"
      },
      "execution_count": 26,
      "outputs": []
    },
    {
      "cell_type": "code",
      "source": [
        "prime_numbers = random_array[np.vectorize(is_prime)(random_array)]\n",
        "\n",
        "print(\"\\nPrime Numbers:\")\n",
        "print(prime_numbers)"
      ],
      "metadata": {
        "colab": {
          "base_uri": "https://localhost:8080/"
        },
        "id": "dP74WfLB8Y86",
        "outputId": "2e3976e3-f5d2-4357-d136-ea876836c70a"
      },
      "execution_count": 27,
      "outputs": [
        {
          "output_type": "stream",
          "name": "stdout",
          "text": [
            "\n",
            "Prime Numbers:\n",
            "[421 941 919 821 131 263 887 941 163 283 173 919 673 859 631 859 491 811\n",
            " 523]\n"
          ]
        }
      ]
    },
    {
      "cell_type": "markdown",
      "source": [
        "## Q10. Numpy array representing Daily Temperature for a month. Displaying it's average"
      ],
      "metadata": {
        "id": "xqtFyJy08eOg"
      }
    },
    {
      "cell_type": "code",
      "source": [
        "np.random.seed(50)\n",
        "daily_temperatures = np.random.randint(50, 90, 30)\n",
        "print(\"Daily Temperatures:\")\n",
        "print(daily_temperatures)"
      ],
      "metadata": {
        "colab": {
          "base_uri": "https://localhost:8080/"
        },
        "id": "yATyh32z8bRC",
        "outputId": "32b27b70-eae3-4a3b-f1ed-9b8074a68005"
      },
      "execution_count": 40,
      "outputs": [
        {
          "output_type": "stream",
          "name": "stdout",
          "text": [
            "Daily Temperatures:\n",
            "[82 61 83 80 54 56 87 56 72 55 52 81 57 54 64 85 78 77 76 76 56 70 81 71\n",
            " 50 56 69 52 65 80]\n"
          ]
        }
      ]
    },
    {
      "cell_type": "code",
      "source": [
        "daily_temperatures_updated = daily_temperatures[:-2]\n",
        "print(\"\\nUpdated Daily Temperatures:\")\n",
        "print(daily_temperatures_updated)\n",
        "weekly_temperatures = daily_temperatures_updated.reshape(4, 7)\n",
        "print(\"\\nWeekly Temperatures:\")\n",
        "print(weekly_temperatures)"
      ],
      "metadata": {
        "colab": {
          "base_uri": "https://localhost:8080/"
        },
        "id": "mrFfZ2oT8vzC",
        "outputId": "c2e57297-c013-4cad-9deb-638be92e6171"
      },
      "execution_count": 41,
      "outputs": [
        {
          "output_type": "stream",
          "name": "stdout",
          "text": [
            "\n",
            "Updated Daily Temperatures:\n",
            "[82 61 83 80 54 56 87 56 72 55 52 81 57 54 64 85 78 77 76 76 56 70 81 71\n",
            " 50 56 69 52]\n",
            "\n",
            "Weekly Temperatures:\n",
            "[[82 61 83 80 54 56 87]\n",
            " [56 72 55 52 81 57 54]\n",
            " [64 85 78 77 76 76 56]\n",
            " [70 81 71 50 56 69 52]]\n"
          ]
        }
      ]
    },
    {
      "cell_type": "code",
      "source": [
        "weekly_average_temperatures = np.mean(weekly_temperatures, axis=1)\n",
        "print(\"\\nWeekly Average Temperatures:\")\n",
        "print(weekly_average_temperatures)"
      ],
      "metadata": {
        "colab": {
          "base_uri": "https://localhost:8080/"
        },
        "id": "ly9S2vtl82t6",
        "outputId": "21a30fb7-aa6a-4db2-f9a7-8934108b3d1d"
      },
      "execution_count": 42,
      "outputs": [
        {
          "output_type": "stream",
          "name": "stdout",
          "text": [
            "\n",
            "Weekly Average Temperatures:\n",
            "[71.85714286 61.         73.14285714 64.14285714]\n"
          ]
        }
      ]
    },
    {
      "cell_type": "code",
      "source": [],
      "metadata": {
        "id": "61WVZu6j-riy"
      },
      "execution_count": null,
      "outputs": []
    }
  ]
}